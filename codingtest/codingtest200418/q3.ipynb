{
 "cells": [
  {
   "cell_type": "code",
   "execution_count": null,
   "metadata": {},
   "outputs": [],
   "source": [
    "def solution(numbers, K):\n",
    "    count = 0\n",
    "    while True:\n",
    "        for i in range(len(numbers) - 1):\n",
    "            if abs(numbers[i] - numbers[i+1]) > K:\n",
    "                \n",
    "    \n",
    "    return count\n",
    "\n",
    "print(solution([10,40,30,20],20))"
   ]
  },
  {
   "cell_type": "code",
   "execution_count": 11,
   "metadata": {},
   "outputs": [
    {
     "name": "stdout",
     "output_type": "stream",
     "text": [
      "[10, 40, 30, 20]\n",
      "[30, 10, 10]\n",
      "0\n",
      "[3, 7, 2, 8, 6, 4, 5, 1]\n",
      "[4, 5, 6, 2, 2, 1, 4]\n",
      "0\n"
     ]
    }
   ],
   "source": [
    "def solution(numbers, K):\n",
    "    count = 0\n",
    "    num2 = numbers[1:]\n",
    "#     num2.append(numbers[0])\n",
    "    diff = list(map(lambda x, y: abs(x - y), numbers, num2))\n",
    "    print(numbers)\n",
    "#     print(num2)\n",
    "    print(diff)\n",
    "                \n",
    "    \n",
    "    return count\n",
    "\n",
    "print(solution([10,40,30,20],20))\n",
    "print(solution([3, 7, 2, 8, 6, 4, 5, 1],3))"
   ]
  }
 ],
 "metadata": {
  "kernelspec": {
   "display_name": "Python 3",
   "language": "python",
   "name": "python3"
  },
  "language_info": {
   "codemirror_mode": {
    "name": "ipython",
    "version": 3
   },
   "file_extension": ".py",
   "mimetype": "text/x-python",
   "name": "python",
   "nbconvert_exporter": "python",
   "pygments_lexer": "ipython3",
   "version": "3.7.6"
  }
 },
 "nbformat": 4,
 "nbformat_minor": 4
}
