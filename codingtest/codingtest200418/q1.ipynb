{
 "cells": [
  {
   "cell_type": "code",
   "execution_count": 8,
   "metadata": {},
   "outputs": [
    {
     "name": "stdout",
     "output_type": "stream",
     "text": [
      "[8, 2, 1, 9, 5]\n",
      "[6, 4, 7, 2, 3]\n",
      "2\n",
      "4\n",
      "8\n",
      "15\n",
      "17\n"
     ]
    },
    {
     "data": {
      "text/plain": [
       "17"
      ]
     },
     "execution_count": 8,
     "metadata": {},
     "output_type": "execute_result"
    }
   ],
   "source": [
    "def solution(p,s):\n",
    "    count = 0\n",
    "    now = list(str(p))\n",
    "    now = list(map(int,now))\n",
    "    answer = list(str(s))\n",
    "    answer = list(map(int,answer))\n",
    "    print(now)\n",
    "    print(answer)\n",
    "    \n",
    "    for i in range(len(now)):\n",
    "        if abs(now[i] - answer[i]) < abs(now[i] + 10 - answer[i]):\n",
    "            count += abs(now[i] - answer[i])\n",
    "        else:\n",
    "            count += abs(now[i] + 10 - answer[i])\n",
    "        print(count)\n",
    "    \n",
    "    \n",
    "    return count\n",
    "\n",
    "solution(82195,64723)"
   ]
  },
  {
   "cell_type": "code",
   "execution_count": 9,
   "metadata": {},
   "outputs": [
    {
     "name": "stdout",
     "output_type": "stream",
     "text": [
      "[8, 2, 1, 9, 5]\n",
      "[6, 4, 7, 2, 3]\n",
      "2\n",
      "4\n",
      "8\n",
      "11\n",
      "13\n"
     ]
    },
    {
     "data": {
      "text/plain": [
       "13"
      ]
     },
     "execution_count": 9,
     "metadata": {},
     "output_type": "execute_result"
    }
   ],
   "source": [
    "def solution(p,s):\n",
    "    count = 0\n",
    "    now = list(str(p))\n",
    "    now = list(map(int,now))\n",
    "    answer = list(str(s))\n",
    "    answer = list(map(int,answer))\n",
    "    print(now)\n",
    "    print(answer)\n",
    "    \n",
    "    for i in range(len(now)):\n",
    "        if now[i] < answer[i]:\n",
    "            if answer[i] - now[i] < now[i] + 10 - answer[i]:\n",
    "                count += answer[i] - now[i]\n",
    "            else:\n",
    "                count += now[i] + 10 - answer[i]\n",
    "        else:\n",
    "            if now[i] - answer[i] < answer[i] + 10 - now[i]:\n",
    "                count += now[i] - answer[i]\n",
    "            else:\n",
    "                count += answer[i] + 10 - now[i]\n",
    "        print(count)\n",
    "    \n",
    "    \n",
    "    return count\n",
    "\n",
    "solution(82195,64723)"
   ]
  }
 ],
 "metadata": {
  "kernelspec": {
   "display_name": "Python 3",
   "language": "python",
   "name": "python3"
  },
  "language_info": {
   "codemirror_mode": {
    "name": "ipython",
    "version": 3
   },
   "file_extension": ".py",
   "mimetype": "text/x-python",
   "name": "python",
   "nbconvert_exporter": "python",
   "pygments_lexer": "ipython3",
   "version": "3.7.6"
  }
 },
 "nbformat": 4,
 "nbformat_minor": 4
}
