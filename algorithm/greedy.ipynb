{
 "cells": [
  {
   "cell_type": "markdown",
   "metadata": {},
   "source": [
    "# 그리디 알고리즘(greedy algorithm) - 동전 지불 문제\n",
    "\n",
    "그리디 알고리즘이란,   \n",
    "쉽게 말해 **매 순간 최선의 선택**을 하는 알고리즘이다.   \n",
    "전체의 최선이 아닌 매 순간의 최선이기 때문에 전체로 봤을 때는 최선이지 않은 경우가 종종 발생한다.    \n",
    "다시 말해 그리디 알고리즘에서는 **2보 전진을 위한 1보 후퇴**라는 말은 허용되지 않는다. 오로지 전진만 할 뿐이다.\n",
    "\n",
    "> 그리디 알고리즘에 대해 좀 더 자세히 알고 싶다면,  \n",
    "> [나무위키 - 그리디 알고리즘](https://namu.wiki/w/%EA%B7%B8%EB%A6%AC%EB%94%94%20%EC%95%8C%EA%B3%A0%EB%A6%AC%EC%A6%98)을 참고하자  \n",
    "  \n",
    "동전 지불 문제는  \n",
    "동전의 종류와 지불할 돈이 주어지면,  \n",
    "각 동전들이 몇 개 씩 사용되며, 잔돈이 생긴다면 잔돈을 출력하는 "
   ]
  },
  {
   "cell_type": "code",
   "execution_count": 17,
   "metadata": {},
   "outputs": [
    {
     "name": "stdout",
     "output_type": "stream",
     "text": [
      "2\n",
      "{500: 2, 100: 3, 50: 1, 10: 0}\n"
     ]
    }
   ],
   "source": [
    "# 동전 지불 문제\n",
    "# 동전 종류, 지불할 돈\n",
    "\n",
    "coins = [10, 50, 100, 500]\n",
    "coins.sort(reverse=True)\n",
    "toPay = 1352\n",
    "\n",
    "# normal way\n",
    "\n",
    "result = {x: 0 for x in coins}\n",
    "\n",
    "value = toPay\n",
    "\n",
    "for coin in coins:\n",
    "    while coin <= value:\n",
    "        value -= coin\n",
    "        result[coin] += 1\n",
    "\n",
    "print(value)\n",
    "print(result)"
   ]
  },
  {
   "cell_type": "code",
   "execution_count": 1,
   "metadata": {},
   "outputs": [
    {
     "name": "stdout",
     "output_type": "stream",
     "text": [
      "[10, 24]\n"
     ]
    }
   ],
   "source": [
    "# big_coin modified\n",
    "\n",
    "coins = [500, 100, 50, 10]\n",
    "\n",
    "def big_coin(toPay, coins):\n",
    "    change_list = []\n",
    "    for coin in coins:\n",
    "        # change_list = [coin, toPay_last]\n",
    "        change_list.append([coin, toPay - coin])\n",
    "    biggest = change_list[0]\n",
    "    # biggest = [coin, toPay_last]\n",
    "    for change in change_list:\n",
    "        if biggest[1] >= 0:\n",
    "            break\n",
    "        elif biggest[0] > change[0]:\n",
    "            biggest = change\n",
    "            \n",
    "        \n",
    "    return biggest\n",
    "\n",
    "print(big_coin(34,coins))"
   ]
  },
  {
   "cell_type": "code",
   "execution_count": 70,
   "metadata": {},
   "outputs": [
    {
     "name": "stdout",
     "output_type": "stream",
     "text": [
      "change is 2\n",
      "{500: 2, 100: 3, 50: 1, 10: 0}\n"
     ]
    }
   ],
   "source": [
    "# Greedy way\n",
    "\n",
    "coins = [10, 50, 100, 500]\n",
    "coins.sort(reverse=True)\n",
    "toPay = 1352\n",
    "coin_result = {x: 0 for x in coins}\n",
    "\n",
    "def big_coin(toPay, coins):\n",
    "    change_list = []\n",
    "    for coin in coins:\n",
    "        change_list.append([coin, toPay - coin])\n",
    "    biggest = change_list[0]\n",
    "    for change in change_list:\n",
    "        if biggest[1] >= 0:\n",
    "            break\n",
    "        elif biggest[0] > change[0]:\n",
    "            biggest = change\n",
    "        \n",
    "    return biggest\n",
    "\n",
    "# print(big_coin(2,coins))\n",
    "        \n",
    "change = [0, toPay] # [coin, change]\n",
    "    \n",
    "while True:\n",
    "    if change[1] >= coins[-1]:\n",
    "        change = big_coin(change[1], coins)\n",
    "    \n",
    "        if change[1] > 0:\n",
    "            coin_result[change[0]] += 1\n",
    "        else:\n",
    "            break\n",
    "    else:\n",
    "        print(f'change is {change[1]}')\n",
    "        break\n",
    "        \n",
    "print(coin_result)\n"
   ]
  },
  {
   "cell_type": "code",
   "execution_count": 1,
   "metadata": {},
   "outputs": [
    {
     "name": "stdout",
     "output_type": "stream",
     "text": [
      "2\n",
      "{500: 2, 100: 3, 50: 1, 10: 0}\n",
      "time:  0.0005469322204589844\n"
     ]
    }
   ],
   "source": [
    "# 시간 측정\n",
    "import time\n",
    "start = time.time()\n",
    "\n",
    "coins = [10, 50, 100, 500]\n",
    "coins.sort(reverse=True)\n",
    "toPay = 1352\n",
    "\n",
    "# normal way\n",
    "\n",
    "result = {x: 0 for x in coins}\n",
    "\n",
    "value = toPay\n",
    "\n",
    "\n",
    "for coin in coins:\n",
    "    while coin <= value:\n",
    "        value -= coin\n",
    "        result[coin] += 1\n",
    "\n",
    "print(value)\n",
    "print(result)\n",
    "print(\"time: \", time.time() - start)"
   ]
  },
  {
   "cell_type": "code",
   "execution_count": 2,
   "metadata": {},
   "outputs": [
    {
     "name": "stdout",
     "output_type": "stream",
     "text": [
      "change is 2\n",
      "{500: 2, 100: 3, 50: 1, 10: 0}\n",
      "time:  0.0005698204040527344\n"
     ]
    }
   ],
   "source": [
    "# 시간 측정\n",
    "import time\n",
    "start = time.time()\n",
    "\n",
    "# Greedy way\n",
    "\n",
    "coins = [10, 50, 100, 500]\n",
    "coins.sort(reverse=True)\n",
    "toPay = 1352\n",
    "coin_result = {x: 0 for x in coins}\n",
    "\n",
    "def big_coin(toPay, coins):\n",
    "    change_list = []\n",
    "    for coin in coins:\n",
    "        change_list.append([coin, toPay - coin])\n",
    "    biggest = change_list[0]\n",
    "    for change in change_list:\n",
    "        if biggest[1] >= 0:\n",
    "            break\n",
    "        elif biggest[0] > change[0]:\n",
    "            biggest = change\n",
    "        \n",
    "    return biggest\n",
    "\n",
    "# print(big_coin(2,coins))\n",
    "        \n",
    "change = [0, toPay] # [coin, change]\n",
    "    \n",
    "while True:\n",
    "    if change[1] >= coins[-1]:\n",
    "        change = big_coin(change[1], coins)\n",
    "    \n",
    "        if change[1] > 0:\n",
    "            coin_result[change[0]] += 1\n",
    "        else:\n",
    "            break\n",
    "    else:\n",
    "        print(f'change is {change[1]}')\n",
    "        break\n",
    "        \n",
    "print(coin_result)\n",
    "\n",
    "print(\"time: \", time.time() - start)"
   ]
  },
  {
   "cell_type": "code",
   "execution_count": 5,
   "metadata": {},
   "outputs": [
    {
     "name": "stdout",
     "output_type": "stream",
     "text": [
      "4\n",
      "{500: 2705356, 100: 1, 50: 0, 10: 3}\n",
      "time:  0.45212888717651367\n"
     ]
    }
   ],
   "source": [
    "# 시간 측정\n",
    "import time\n",
    "start = time.time()\n",
    "\n",
    "coins = [10, 50, 100, 500]\n",
    "coins.sort(reverse=True)\n",
    "toPay = 1352678134\n",
    "\n",
    "# normal way\n",
    "\n",
    "result = {x: 0 for x in coins}\n",
    "\n",
    "value = toPay\n",
    "\n",
    "\n",
    "for coin in coins:\n",
    "    while coin <= value:\n",
    "        value -= coin\n",
    "        result[coin] += 1\n",
    "\n",
    "print(f'{value}')\n",
    "print(result)\n",
    "print(\"time: \", time.time() - start)"
   ]
  },
  {
   "cell_type": "code",
   "execution_count": 4,
   "metadata": {},
   "outputs": [
    {
     "name": "stdout",
     "output_type": "stream",
     "text": [
      "change is 4\n",
      "{500: 2705356, 100: 1, 50: 0, 10: 3}\n",
      "time:  2.2910521030426025\n"
     ]
    }
   ],
   "source": [
    "# 시간 측정\n",
    "import time\n",
    "start = time.time()\n",
    "\n",
    "# Greedy way\n",
    "\n",
    "coins = [10, 50, 100, 500]\n",
    "coins.sort(reverse=True)\n",
    "toPay = 1352678134\n",
    "coin_result = {x: 0 for x in coins}\n",
    "\n",
    "def big_coin(toPay, coins):\n",
    "    change_list = []\n",
    "    for coin in coins:\n",
    "        change_list.append([coin, toPay - coin])\n",
    "    biggest = change_list[0]\n",
    "    for change in change_list:\n",
    "        if biggest[1] >= 0:\n",
    "            break\n",
    "        elif biggest[0] > change[0]:\n",
    "            biggest = change\n",
    "        \n",
    "    return biggest\n",
    "\n",
    "# print(big_coin(2,coins))\n",
    "        \n",
    "change = [0, toPay] # [coin, change]\n",
    "    \n",
    "while True:\n",
    "    if change[1] >= coins[-1]:\n",
    "        change = big_coin(change[1], coins)\n",
    "    \n",
    "        if change[1] > 0:\n",
    "            coin_result[change[0]] += 1\n",
    "        else:\n",
    "            break\n",
    "    else:\n",
    "        print(f'change is {change[1]}')\n",
    "        break\n",
    "   \n",
    "        \n",
    "print(coin_result)\n",
    "\n",
    "print(\"time: \", time.time() - start)"
   ]
  },
  {
   "cell_type": "code",
   "execution_count": 67,
   "metadata": {},
   "outputs": [
    {
     "name": "stdout",
     "output_type": "stream",
     "text": [
      "{5000: 27053, 2000: 1, 700: 1, 500: 0, 200: 0, 100: 1, 50: 0, 10: 1}\n",
      "time:  0.035115957260131836\n"
     ]
    }
   ],
   "source": [
    "# 시간 측정\n",
    "import time\n",
    "start = time.time()\n",
    "\n",
    "# Greedy way\n",
    "# more coins\n",
    "coins = [10, 50, 100, 500, 200, 700, 2000, 5000]\n",
    "coins.sort(reverse=True)\n",
    "toPay = 135267813\n",
    "coin_result = {x: 0 for x in coins}\n",
    "\n",
    "def big_coin(toPay, coins):\n",
    "    change_list = []\n",
    "    for coin in coins:\n",
    "        change_list.append([coin, toPay - coin])\n",
    "    biggest = change_list[0]\n",
    "    for change in change_list:\n",
    "        if biggest[1] >= 0:\n",
    "            break\n",
    "        elif biggest[0] > change[0]:\n",
    "            biggest = change\n",
    "        \n",
    "    return biggest\n",
    "\n",
    "# print(big_coin(2,coins))\n",
    "        \n",
    "change = [0, toPay] # [coin, change]\n",
    "    \n",
    "while True:\n",
    "    \n",
    "\n",
    "    test = big_coin(change[1], coins)\n",
    "    if test:\n",
    "        change = test\n",
    "    else:\n",
    "        print(change)\n",
    "        break\n",
    "\n",
    "    if change[1] > 0:\n",
    "        coin_result[change[0]] += 1\n",
    "    else:\n",
    "        break\n",
    "   \n",
    "        \n",
    "print(coin_result)\n",
    "\n",
    "print(\"time: \", time.time() - start)"
   ]
  },
  {
   "cell_type": "code",
   "execution_count": 68,
   "metadata": {},
   "outputs": [
    {
     "name": "stdout",
     "output_type": "stream",
     "text": [
      "change is 3\n",
      "{5000: 27053, 2000: 1, 700: 1, 500: 0, 200: 0, 100: 1, 50: 0, 10: 1}\n",
      "time:  0.0063130855560302734\n"
     ]
    }
   ],
   "source": [
    "# 시간 측정\n",
    "import time\n",
    "start = time.time()\n",
    "\n",
    "# more coins\n",
    "coins = [10, 50, 100, 500, 200, 700, 2000, 5000]\n",
    "coins.sort(reverse=True)\n",
    "toPay = 135267813\n",
    "\n",
    "# normal way\n",
    "\n",
    "result = {x: 0 for x in coins}\n",
    "\n",
    "value = toPay\n",
    "\n",
    "\n",
    "for coin in coins:\n",
    "    while coin <= value:\n",
    "        value -= coin\n",
    "        result[coin] += 1\n",
    "\n",
    "print(f'change is {value}')\n",
    "print(result)\n",
    "print(\"time: \", time.time() - start)"
   ]
  },
  {
   "cell_type": "code",
   "execution_count": 63,
   "metadata": {},
   "outputs": [
    {
     "name": "stdout",
     "output_type": "stream",
     "text": [
      "change is 4\n",
      "{500: 0, 100: 0, 50: 0, 10: 3}\n",
      "time:  0.0005128383636474609\n"
     ]
    }
   ],
   "source": [
    "# 시간 측정\n",
    "import time\n",
    "start = time.time()\n",
    "\n",
    "# Greedy way\n",
    "\n",
    "coins = [10, 50, 100, 500]\n",
    "coins.sort(reverse=True)\n",
    "toPay = 34\n",
    "coin_result = {x: 0 for x in coins}\n",
    "\n",
    "def big_coin(toPay, coins):\n",
    "    change_list = []\n",
    "    for coin in coins:\n",
    "        change_list.append([coin, toPay - coin])\n",
    "    biggest = change_list[0]\n",
    "    for change in change_list:\n",
    "\n",
    "        if biggest[1] >= 0:\n",
    "            break\n",
    "        elif biggest[0] > change[0]:\n",
    "            biggest = change\n",
    "        \n",
    "    return biggest\n",
    "\n",
    "# print(big_coin(2,coins))\n",
    "        \n",
    "change = [0, toPay] # [coin, change]\n",
    "    \n",
    "while True:\n",
    "    if change[1] >= coins[-1]:\n",
    "\n",
    "        test = big_coin(change[1], coins)\n",
    "\n",
    "        if test:\n",
    "            change = test\n",
    "        else:\n",
    "            print('error',change)\n",
    "            break\n",
    "        \n",
    "        if change[1] > 0:\n",
    "            coin_result[change[0]] += 1\n",
    "        else:\n",
    "            break\n",
    "    else:\n",
    "        print(f'change is {change[1]}')\n",
    "        break\n",
    "        \n",
    "print(coin_result)\n",
    "\n",
    "print(\"time: \", time.time() - start)"
   ]
  }
 ],
 "metadata": {
  "kernelspec": {
   "display_name": "Python 3",
   "language": "python",
   "name": "python3"
  },
  "language_info": {
   "codemirror_mode": {
    "name": "ipython",
    "version": 3
   },
   "file_extension": ".py",
   "mimetype": "text/x-python",
   "name": "python",
   "nbconvert_exporter": "python",
   "pygments_lexer": "ipython3",
   "version": "3.7.6"
  }
 },
 "nbformat": 4,
 "nbformat_minor": 4
}
