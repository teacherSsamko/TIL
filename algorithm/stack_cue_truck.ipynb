{
 "cells": [
  {
   "cell_type": "code",
   "execution_count": 23,
   "metadata": {},
   "outputs": [
    {
     "name": "stdout",
     "output_type": "stream",
     "text": [
      "8\n",
      "101\n",
      "110\n"
     ]
    },
    {
     "ename": "KeyboardInterrupt",
     "evalue": "",
     "output_type": "error",
     "traceback": [
      "\u001b[0;31m---------------------------------------------------------------------------\u001b[0m",
      "\u001b[0;31mKeyboardInterrupt\u001b[0m                         Traceback (most recent call last)",
      "\u001b[0;32m<ipython-input-23-0be286fdb813>\u001b[0m in \u001b[0;36m<module>\u001b[0;34m\u001b[0m\n\u001b[1;32m     22\u001b[0m \u001b[0mprint\u001b[0m\u001b[0;34m(\u001b[0m\u001b[0msolution\u001b[0m\u001b[0;34m(\u001b[0m\u001b[0;36m100\u001b[0m\u001b[0;34m,\u001b[0m \u001b[0;36m100\u001b[0m\u001b[0;34m,\u001b[0m \u001b[0;34m[\u001b[0m\u001b[0;36m10\u001b[0m\u001b[0;34m]\u001b[0m\u001b[0;34m)\u001b[0m\u001b[0;34m)\u001b[0m\u001b[0;34m\u001b[0m\u001b[0;34m\u001b[0m\u001b[0m\n\u001b[1;32m     23\u001b[0m \u001b[0mprint\u001b[0m\u001b[0;34m(\u001b[0m\u001b[0msolution\u001b[0m\u001b[0;34m(\u001b[0m\u001b[0;36m100\u001b[0m\u001b[0;34m,\u001b[0m \u001b[0;36m100\u001b[0m\u001b[0;34m,\u001b[0m \u001b[0;34m[\u001b[0m\u001b[0;36m10\u001b[0m\u001b[0;34m,\u001b[0m\u001b[0;36m10\u001b[0m\u001b[0;34m,\u001b[0m\u001b[0;36m10\u001b[0m\u001b[0;34m,\u001b[0m\u001b[0;36m10\u001b[0m\u001b[0;34m,\u001b[0m\u001b[0;36m10\u001b[0m\u001b[0;34m,\u001b[0m\u001b[0;36m10\u001b[0m\u001b[0;34m,\u001b[0m\u001b[0;36m10\u001b[0m\u001b[0;34m,\u001b[0m\u001b[0;36m10\u001b[0m\u001b[0;34m,\u001b[0m\u001b[0;36m10\u001b[0m\u001b[0;34m,\u001b[0m\u001b[0;36m10\u001b[0m\u001b[0;34m]\u001b[0m\u001b[0;34m)\u001b[0m\u001b[0;34m)\u001b[0m\u001b[0;34m\u001b[0m\u001b[0;34m\u001b[0m\u001b[0m\n\u001b[0;32m---> 24\u001b[0;31m \u001b[0mprint\u001b[0m\u001b[0;34m(\u001b[0m\u001b[0msolution\u001b[0m\u001b[0;34m(\u001b[0m\u001b[0;36m10000\u001b[0m\u001b[0;34m,\u001b[0m \u001b[0;36m10\u001b[0m\u001b[0;34m,\u001b[0m \u001b[0;34m[\u001b[0m\u001b[0;36m10\u001b[0m\u001b[0;34m]\u001b[0m \u001b[0;34m*\u001b[0m \u001b[0;36m1000\u001b[0m\u001b[0;34m)\u001b[0m\u001b[0;34m)\u001b[0m\u001b[0;34m\u001b[0m\u001b[0;34m\u001b[0m\u001b[0m\n\u001b[0m",
      "\u001b[0;32m<ipython-input-23-0be286fdb813>\u001b[0m in \u001b[0;36msolution\u001b[0;34m(bridge_length, weight, truck_weights)\u001b[0m\n\u001b[1;32m      4\u001b[0m \u001b[0;34m\u001b[0m\u001b[0m\n\u001b[1;32m      5\u001b[0m     \u001b[0;32mwhile\u001b[0m \u001b[0mtruck_weights\u001b[0m\u001b[0;34m:\u001b[0m\u001b[0;34m\u001b[0m\u001b[0;34m\u001b[0m\u001b[0m\n\u001b[0;32m----> 6\u001b[0;31m         \u001b[0;32mif\u001b[0m \u001b[0msum\u001b[0m\u001b[0;34m(\u001b[0m\u001b[0mbridge\u001b[0m\u001b[0;34m[\u001b[0m\u001b[0;34m:\u001b[0m\u001b[0;34m-\u001b[0m\u001b[0;36m1\u001b[0m\u001b[0;34m]\u001b[0m\u001b[0;34m)\u001b[0m \u001b[0;34m+\u001b[0m \u001b[0mtruck_weights\u001b[0m\u001b[0;34m[\u001b[0m\u001b[0;36m0\u001b[0m\u001b[0;34m]\u001b[0m \u001b[0;34m<=\u001b[0m \u001b[0mweight\u001b[0m\u001b[0;34m:\u001b[0m\u001b[0;34m\u001b[0m\u001b[0;34m\u001b[0m\u001b[0m\n\u001b[0m\u001b[1;32m      7\u001b[0m             \u001b[0mbridge\u001b[0m\u001b[0;34m.\u001b[0m\u001b[0minsert\u001b[0m\u001b[0;34m(\u001b[0m\u001b[0;36m0\u001b[0m\u001b[0;34m,\u001b[0m \u001b[0mtruck_weights\u001b[0m\u001b[0;34m.\u001b[0m\u001b[0mpop\u001b[0m\u001b[0;34m(\u001b[0m\u001b[0;36m0\u001b[0m\u001b[0;34m)\u001b[0m\u001b[0;34m)\u001b[0m\u001b[0;34m\u001b[0m\u001b[0;34m\u001b[0m\u001b[0m\n\u001b[1;32m      8\u001b[0m             \u001b[0mbridge\u001b[0m \u001b[0;34m=\u001b[0m \u001b[0mbridge\u001b[0m\u001b[0;34m[\u001b[0m\u001b[0;34m:\u001b[0m\u001b[0;34m-\u001b[0m\u001b[0;36m1\u001b[0m\u001b[0;34m]\u001b[0m\u001b[0;34m\u001b[0m\u001b[0;34m\u001b[0m\u001b[0m\n",
      "\u001b[0;31mKeyboardInterrupt\u001b[0m: "
     ]
    }
   ],
   "source": [
    "def solution(bridge_length, weight, truck_weights):\n",
    "    answer = 0\n",
    "    bridge = [0] * bridge_length\n",
    "    \n",
    "    while truck_weights:\n",
    "        if sum(bridge[:-1]) + truck_weights[0] <= weight:\n",
    "            bridge.insert(0, truck_weights.pop(0))\n",
    "            bridge = bridge[:-1]\n",
    "            answer += 1\n",
    "            continue\n",
    "\n",
    "        bridge = [0] + bridge[:bridge_length - 1]\n",
    "        answer += 1\n",
    "        \n",
    "    while sum(bridge) != 0:\n",
    "        bridge = [0] + bridge[:bridge_length - 1]\n",
    "        answer += 1\n",
    "    \n",
    "    return answer\n",
    "\n",
    "print(solution(2, 10, [7,4,5,6]))\n",
    "print(solution(100, 100, [10]))\n",
    "print(solution(100, 100, [10,10,10,10,10,10,10,10,10,10]))\n",
    "print(solution(10000, 10, [10] * 1000))"
   ]
  },
  {
   "cell_type": "markdown",
   "metadata": {},
   "source": [
    "time out Error\n",
    "queue를 써보자"
   ]
  },
  {
   "cell_type": "code",
   "execution_count": 38,
   "metadata": {},
   "outputs": [
    {
     "name": "stdout",
     "output_type": "stream",
     "text": [
      "7\n",
      "1\n",
      "10\n"
     ]
    }
   ],
   "source": [
    "from queue import Queue\n",
    "\n",
    "def solution(bridge_length, weight, truck_weights):\n",
    "    timestamp = 0\n",
    "    q = Queue(maxsize = bridge_length)\n",
    "    onBridge = 0\n",
    "    \n",
    "    while truck_weights:\n",
    "        truck = truck_weights.pop(0)\n",
    "        q.put(truck)\n",
    "        timestamp += 1\n",
    "        onBridge += truck\n",
    "        if truck_weights:\n",
    "            if onBridge + truck_weights[0] <= weight:\n",
    "                continue\n",
    "            else:\n",
    "                while not q.full():\n",
    "                    q.put(0)\n",
    "                    timestamp += 1\n",
    "                while not q.empty():\n",
    "                    q.get()\n",
    "#         else:\n",
    "#             while not q.full():\n",
    "#                 q.put(0)\n",
    "#                 timestamp += 1\n",
    "#             timestamp += 1\n",
    "    \n",
    "    return timestamp\n",
    "\n",
    "print(solution(2, 10, [7,4,5,6]))\n",
    "print(solution(100, 100, [10]))\n",
    "print(solution(100, 100, [10,10,10,10,10,10,10,10,10,10]))\n",
    "# print(solution(10000, 10, [10] * 1000))"
   ]
  },
  {
   "cell_type": "code",
   "execution_count": 46,
   "metadata": {},
   "outputs": [
    {
     "name": "stdout",
     "output_type": "stream",
     "text": [
      "2\n",
      "101\n",
      "2\n"
     ]
    }
   ],
   "source": [
    "def solution(bridge_length, weight, truck_weights):\n",
    "    timestamp = 0\n",
    "    wait_trucks = truck_weights.copy()\n",
    "    crossed = [] \n",
    "    crossing = [0] * bridge_length\n",
    "    \n",
    "    crossing.append(wait_trucks.pop(0))\n",
    "    crossing.pop(0)\n",
    "    timestamp += 1\n",
    "    \n",
    "    def move_forward(crossing, truck=0):\n",
    "        crossing.append(0)\n",
    "        crossing.pop(0)\n",
    "        return crossing\n",
    "    \n",
    "    if wait_trucks:\n",
    "        if sum(crossing) + wait_trucks[0] <= weight:\n",
    "            move_forward(crossing, wait_trucks.pop(0))\n",
    "            timestamp += 1\n",
    "        else:\n",
    "            move_forward(crossing)\n",
    "            timestamp += 1\n",
    "    else:\n",
    "        while sum(crossing):\n",
    "            move_forward(crossing)\n",
    "            timestamp += 1\n",
    "    \n",
    "    \n",
    "    \n",
    "    return timestamp\n",
    "\n",
    "print(solution(2, 10, [7,4,5,6]))\n",
    "print(solution(100, 100, [10]))\n",
    "print(solution(100, 100, [10,10,10,10,10,10,10,10,10,10]))\n",
    "# print(solution(10000, 10, [10] * 1000))"
   ]
  },
  {
   "cell_type": "markdown",
   "metadata": {},
   "source": [
    "반복문을 넣어서 해결해보자."
   ]
  },
  {
   "cell_type": "code",
   "execution_count": 70,
   "metadata": {},
   "outputs": [
    {
     "name": "stdout",
     "output_type": "stream",
     "text": [
      "8\n",
      "101\n",
      "110\n"
     ]
    }
   ],
   "source": [
    "def solution(bridge_length, weight, truck_weights):\n",
    "    timestamp = 0\n",
    "    wait_trucks = truck_weights.copy()\n",
    "    crossed = [] \n",
    "    crossing = [0] * bridge_length\n",
    "    onBridge = 0\n",
    "    \n",
    "   \n",
    "    crossing.append(wait_trucks[0])\n",
    "    onBridge += wait_trucks.pop(0)\n",
    "    crossing.pop(0)\n",
    "    timestamp += 1\n",
    "    \n",
    "    while wait_trucks:\n",
    "#         print('wait_truck: ',wait_trucks)\n",
    "#         print('crossing: ',crossing)\n",
    "        if onBridge - crossing[0] + wait_trucks[0] <= weight:\n",
    "            crossing.append(wait_trucks[0])\n",
    "            onBridge += wait_trucks.pop(0)\n",
    "            onBridge -= crossing.pop(0)\n",
    "            timestamp += 1\n",
    "        else:\n",
    "            crossing.append(0)\n",
    "            onBridge -= crossing.pop(0)\n",
    "            timestamp += 1\n",
    "    \n",
    "    \n",
    "    return timestamp + bridge_length\n",
    "\n",
    "print(solution(2, 10, [7,4,5,6]))\n",
    "print(solution(100, 100, [10]))\n",
    "print(solution(100, 100, [10,10,10,10,10,10,10,10,10,10]))\n",
    "# print(solution(10000, 10, [10] * 1000))"
   ]
  },
  {
   "cell_type": "code",
   "execution_count": 72,
   "metadata": {},
   "outputs": [
    {
     "name": "stdout",
     "output_type": "stream",
     "text": [
      "8 8\n",
      "101 101\n",
      "110 110\n"
     ]
    }
   ],
   "source": [
    "import collections\n",
    "\n",
    "DUMMY_TRUCK = 0\n",
    "\n",
    "\n",
    "class Bridge(object):\n",
    "\n",
    "    def __init__(self, length, weight):\n",
    "        self._max_length = length\n",
    "        self._max_weight = weight\n",
    "        self._queue = collections.deque()\n",
    "        self._current_weight = 0\n",
    "\n",
    "    def push(self, truck):\n",
    "        next_weight = self._current_weight + truck\n",
    "        if next_weight <= self._max_weight and len(self._queue) < self._max_length:\n",
    "            self._queue.append(truck)\n",
    "            self._current_weight = next_weight\n",
    "            return True\n",
    "        else:\n",
    "            return False\n",
    "\n",
    "    def pop(self):\n",
    "        item = self._queue.popleft()\n",
    "        self._current_weight -= item\n",
    "        return item\n",
    "\n",
    "    def __len__(self):\n",
    "        return len(self._queue)\n",
    "\n",
    "    def __repr__(self):\n",
    "        return 'Bridge({}/{} : [{}])'.format(self._current_weight, self._max_weight, list(self._queue))\n",
    "\n",
    "\n",
    "def solution(bridge_length, weight, truck_weights):\n",
    "    bridge = Bridge(bridge_length, weight)\n",
    "    trucks = collections.deque(w for w in truck_weights)\n",
    "\n",
    "    for _ in range(bridge_length):\n",
    "        bridge.push(DUMMY_TRUCK)\n",
    "\n",
    "    count = 0\n",
    "    while trucks:\n",
    "        bridge.pop()\n",
    "\n",
    "        if bridge.push(trucks[0]):\n",
    "            trucks.popleft()\n",
    "        else:\n",
    "            bridge.push(DUMMY_TRUCK)\n",
    "\n",
    "        count += 1\n",
    "\n",
    "#     while bridge:\n",
    "#         bridge.pop()\n",
    "#         count += 1\n",
    "\n",
    "    return count + bridge_length\n",
    "\n",
    "\n",
    "def main():\n",
    "    print(solution(2, 10, [7, 4, 5, 6]), 8)\n",
    "    print(solution(100, 100, [10]), 101)\n",
    "    print(solution(100, 100, [10, 10, 10, 10, 10, 10, 10, 10, 10, 10]), 110)\n",
    "\n",
    "\n",
    "if __name__ == '__main__':\n",
    "    main()"
   ]
  }
 ],
 "metadata": {
  "kernelspec": {
   "display_name": "Python 3",
   "language": "python",
   "name": "python3"
  },
  "language_info": {
   "codemirror_mode": {
    "name": "ipython",
    "version": 3
   },
   "file_extension": ".py",
   "mimetype": "text/x-python",
   "name": "python",
   "nbconvert_exporter": "python",
   "pygments_lexer": "ipython3",
   "version": "3.7.6"
  }
 },
 "nbformat": 4,
 "nbformat_minor": 4
}
