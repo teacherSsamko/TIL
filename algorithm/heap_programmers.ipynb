{
 "cells": [
  {
   "cell_type": "code",
   "execution_count": 1,
   "metadata": {},
   "outputs": [],
   "source": [
    "import heapq\n",
    "\n",
    "def solution(scoville, K):\n",
    "    count = 0\n",
    "    while scoville[0] < K and len(scoville) > 1:\n",
    "        heapq.heapify(scoville)\n",
    "        f1 = heapq.heappop(scoville)\n",
    "        f2 = heapq.heappop(scoville)\n",
    "        heapq.heappush(scoville,mixing(f1,f2))\n",
    "        count += 1\n",
    "    if scoville[0] < K:\n",
    "        return -1\n",
    "\n",
    "    return count\n",
    "\n",
    "def mixing(f1,f2):\n",
    "    return f1 + f2 * 2"
   ]
  },
  {
   "cell_type": "code",
   "execution_count": 2,
   "metadata": {},
   "outputs": [],
   "source": [
    "import heapq\n",
    "\n",
    "def solution(scoville, K):\n",
    "    count = 0\n",
    "    heapq.heapify(scoville)\n",
    "    while scoville[0] < K and len(scoville) > 1:\n",
    "        \n",
    "        f1 = heapq.heappop(scoville)\n",
    "        f2 = heapq.heappop(scoville)\n",
    "        heapq.heappush(scoville,mixing(f1,f2))\n",
    "        count += 1\n",
    "    if scoville[0] < K:\n",
    "        return -1\n",
    "\n",
    "    return count\n",
    "\n",
    "def mixing(f1,f2):\n",
    "    return f1 + f2 * 2"
   ]
  },
  {
   "cell_type": "markdown",
   "metadata": {},
   "source": [
    "라면공장"
   ]
  },
  {
   "cell_type": "code",
   "execution_count": 7,
   "metadata": {},
   "outputs": [
    {
     "name": "stdout",
     "output_type": "stream",
     "text": [
      "{4: 20, 10: 5, 15: 10}\n",
      "0\n"
     ]
    }
   ],
   "source": [
    "def solution(stock, dates, supplies, k):\n",
    "    answer = 0\n",
    "    elapsed = 0\n",
    "    dic = dict(zip(dates, supplies))\n",
    "    print(dic)\n",
    "    \n",
    "    \n",
    "    return answer\n",
    "\n",
    "stock = 4\n",
    "dates = [4, 10, 15]\n",
    "supplies = [20, 5, 10]\n",
    "k = 30\n",
    "print(solution(stock, dates, supplies, k))"
   ]
  },
  {
   "cell_type": "code",
   "execution_count": 17,
   "metadata": {},
   "outputs": [
    {
     "name": "stdout",
     "output_type": "stream",
     "text": [
      "4\n"
     ]
    },
    {
     "ename": "IndexError",
     "evalue": "list index out of range",
     "output_type": "error",
     "traceback": [
      "\u001b[0;31m---------------------------------------------------------------------------\u001b[0m",
      "\u001b[0;31mIndexError\u001b[0m                                Traceback (most recent call last)",
      "\u001b[0;32m<ipython-input-17-a8fc02833387>\u001b[0m in \u001b[0;36m<module>\u001b[0;34m\u001b[0m\n\u001b[1;32m     25\u001b[0m \u001b[0msupplies\u001b[0m \u001b[0;34m=\u001b[0m \u001b[0;34m[\u001b[0m\u001b[0;36m20\u001b[0m\u001b[0;34m,\u001b[0m \u001b[0;36m5\u001b[0m\u001b[0;34m,\u001b[0m \u001b[0;36m10\u001b[0m\u001b[0;34m]\u001b[0m\u001b[0;34m\u001b[0m\u001b[0;34m\u001b[0m\u001b[0m\n\u001b[1;32m     26\u001b[0m \u001b[0mk\u001b[0m \u001b[0;34m=\u001b[0m \u001b[0;36m30\u001b[0m\u001b[0;34m\u001b[0m\u001b[0;34m\u001b[0m\u001b[0m\n\u001b[0;32m---> 27\u001b[0;31m \u001b[0mprint\u001b[0m\u001b[0;34m(\u001b[0m\u001b[0msolution\u001b[0m\u001b[0;34m(\u001b[0m\u001b[0mstock\u001b[0m\u001b[0;34m,\u001b[0m \u001b[0mdates\u001b[0m\u001b[0;34m,\u001b[0m \u001b[0msupplies\u001b[0m\u001b[0;34m,\u001b[0m \u001b[0mk\u001b[0m\u001b[0;34m)\u001b[0m\u001b[0;34m)\u001b[0m\u001b[0;34m\u001b[0m\u001b[0;34m\u001b[0m\u001b[0m\n\u001b[0m",
      "\u001b[0;32m<ipython-input-17-a8fc02833387>\u001b[0m in \u001b[0;36msolution\u001b[0;34m(stock, dates, supplies, k)\u001b[0m\n\u001b[1;32m      6\u001b[0m     \u001b[0mi\u001b[0m \u001b[0;34m=\u001b[0m \u001b[0;36m0\u001b[0m\u001b[0;34m\u001b[0m\u001b[0;34m\u001b[0m\u001b[0m\n\u001b[1;32m      7\u001b[0m     \u001b[0;32mwhile\u001b[0m \u001b[0mstock\u001b[0m \u001b[0;34m+\u001b[0m \u001b[0melapsed\u001b[0m \u001b[0;34m<\u001b[0m \u001b[0mk\u001b[0m\u001b[0;34m:\u001b[0m\u001b[0;34m\u001b[0m\u001b[0;34m\u001b[0m\u001b[0m\n\u001b[0;32m----> 8\u001b[0;31m         \u001b[0;32mif\u001b[0m \u001b[0mdates\u001b[0m\u001b[0;34m[\u001b[0m\u001b[0mi\u001b[0m\u001b[0;34m]\u001b[0m \u001b[0;34m<=\u001b[0m \u001b[0mstock\u001b[0m \u001b[0;34m+\u001b[0m \u001b[0melapsed\u001b[0m \u001b[0;32mand\u001b[0m \u001b[0mdates\u001b[0m\u001b[0;34m[\u001b[0m\u001b[0mi\u001b[0m\u001b[0;34m+\u001b[0m\u001b[0;36m1\u001b[0m\u001b[0;34m]\u001b[0m \u001b[0;34m>\u001b[0m \u001b[0mstock\u001b[0m \u001b[0;34m+\u001b[0m \u001b[0melapsed\u001b[0m\u001b[0;34m:\u001b[0m\u001b[0;34m\u001b[0m\u001b[0;34m\u001b[0m\u001b[0m\n\u001b[0m\u001b[1;32m      9\u001b[0m             \u001b[0mpassed\u001b[0m \u001b[0;34m=\u001b[0m \u001b[0mdates\u001b[0m\u001b[0;34m[\u001b[0m\u001b[0mi\u001b[0m\u001b[0;34m]\u001b[0m\u001b[0;34m\u001b[0m\u001b[0;34m\u001b[0m\u001b[0m\n\u001b[1;32m     10\u001b[0m             \u001b[0mstock\u001b[0m \u001b[0;34m=\u001b[0m \u001b[0mstock\u001b[0m \u001b[0;34m-\u001b[0m \u001b[0mpassed\u001b[0m \u001b[0;34m+\u001b[0m \u001b[0msupplies\u001b[0m\u001b[0;34m[\u001b[0m\u001b[0mi\u001b[0m\u001b[0;34m]\u001b[0m\u001b[0;34m\u001b[0m\u001b[0;34m\u001b[0m\u001b[0m\n",
      "\u001b[0;31mIndexError\u001b[0m: list index out of range"
     ]
    }
   ],
   "source": [
    "def solution(stock, dates, supplies, k):\n",
    "    answer = 0\n",
    "    elapsed = 0\n",
    "    dic = dict(zip(dates, supplies))\n",
    "    \n",
    "    i = 0\n",
    "    while stock + elapsed < k:\n",
    "        if dates[i] <= stock + elapsed and dates[i+1] > stock + elapsed:\n",
    "            passed = dates[i]\n",
    "            stock = stock - passed + supplies[i]\n",
    "            elapsed += passed\n",
    "            answer += 1\n",
    "            print(dates[i])\n",
    "            i += 1\n",
    "            \n",
    "            continue\n",
    "        \n",
    "            \n",
    "    \n",
    "    \n",
    "    return answer\n",
    "\n",
    "stock = 4\n",
    "dates = [4, 10, 15]\n",
    "supplies = [20, 5, 10]\n",
    "k = 30\n",
    "print(solution(stock, dates, supplies, k))"
   ]
  }
 ],
 "metadata": {
  "kernelspec": {
   "display_name": "Python 3",
   "language": "python",
   "name": "python3"
  },
  "language_info": {
   "codemirror_mode": {
    "name": "ipython",
    "version": 3
   },
   "file_extension": ".py",
   "mimetype": "text/x-python",
   "name": "python",
   "nbconvert_exporter": "python",
   "pygments_lexer": "ipython3",
   "version": "3.7.6"
  }
 },
 "nbformat": 4,
 "nbformat_minor": 4
}
