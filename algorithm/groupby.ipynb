{
 "cells": [
  {
   "cell_type": "code",
   "execution_count": 9,
   "metadata": {},
   "outputs": [
    {
     "name": "stdout",
     "output_type": "stream",
     "text": [
      "['1', '2', '3', '1']\n",
      "['1']\n",
      "['2', '2', '2']\n",
      "['3']\n",
      "['1', '1']\n"
     ]
    }
   ],
   "source": [
    "import sys\n",
    "from itertools import groupby\n",
    "\n",
    "# given = sys.stdin.readline()\n",
    "given = '1222311'\n",
    "\n",
    "keys = [k for k, g in groupby(given)]\n",
    "values = [list(g) for k, g in groupby(given)]\n",
    "\n",
    "print(keys)\n",
    "\n",
    "for value in values:\n",
    "    print(value)\n",
    "#     for v in value:\n",
    "#         print(v)\n"
   ]
  },
  {
   "cell_type": "code",
   "execution_count": 13,
   "metadata": {},
   "outputs": [
    {
     "name": "stdout",
     "output_type": "stream",
     "text": [
      "[1, 2, 3, 1]\n",
      "[1, 3, 1, 2]\n",
      "(1, 1) (3, 2) (1, 3) (2, 1) "
     ]
    }
   ],
   "source": [
    "import sys\n",
    "from itertools import groupby\n",
    "\n",
    "# given = sys.stdin.readline()\n",
    "given = '1222311'\n",
    "\n",
    "keys = [int(k) for k, g in groupby(given)]\n",
    "values = [list(g) for k, g in groupby(given)]\n",
    "values = list(map(len,values))\n",
    "\n",
    "print(keys)\n",
    "print(values)\n",
    "\n",
    "for i in range(len(keys)):\n",
    "    t = (values[i], keys[i])\n",
    "    print(t, end=' ')\n"
   ]
  },
  {
   "cell_type": "code",
   "execution_count": 13,
   "metadata": {},
   "outputs": [
    {
     "name": "stdout",
     "output_type": "stream",
     "text": [
      "[1, 2, 3, 1]\n",
      "[1, 3, 1, 2]\n",
      "(1, 1) (3, 2) (1, 3) (2, 1) "
     ]
    }
   ],
   "source": [
    "import sys\n",
    "from itertools import groupby\n",
    "\n",
    "given = sys.stdin.readline()\n",
    "\n",
    "keys = [int(k) for k, g in groupby(given)]\n",
    "values = [list(g) for k, g in groupby(given)]\n",
    "values = list(map(len,values))\n",
    "\n",
    "for i in range(len(keys)):\n",
    "    t = (values[i], keys[i])\n",
    "    print(t, end=' ')\n"
   ]
  }
 ],
 "metadata": {
  "kernelspec": {
   "display_name": "Python 3",
   "language": "python",
   "name": "python3"
  },
  "language_info": {
   "codemirror_mode": {
    "name": "ipython",
    "version": 3
   },
   "file_extension": ".py",
   "mimetype": "text/x-python",
   "name": "python",
   "nbconvert_exporter": "python",
   "pygments_lexer": "ipython3",
   "version": "3.7.6"
  }
 },
 "nbformat": 4,
 "nbformat_minor": 4
}
