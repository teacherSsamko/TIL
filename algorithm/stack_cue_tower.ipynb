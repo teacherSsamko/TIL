{
 "cells": [
  {
   "cell_type": "code",
   "execution_count": 10,
   "metadata": {},
   "outputs": [
    {
     "name": "stdout",
     "output_type": "stream",
     "text": [
      "[0, 0, 2, 2, 4]\n",
      "[3, 0, 0, 3, 3, 3, 6]\n",
      "[0, 6, 7, 5, 0, 5, 6]\n"
     ]
    }
   ],
   "source": [
    "def solution(heights):\n",
    "    answer = []\n",
    "    \n",
    "    heights.reverse()\n",
    "    \n",
    "    \n",
    "    for x in heights:\n",
    "        didInsert = False\n",
    "        for y in heights[heights.index(x) + 1:]:\n",
    "            if x < y:\n",
    "                answer.insert(0, len(heights) - heights.index(y))\n",
    "                didInsert = True\n",
    "                break\n",
    "        if not didInsert:\n",
    "            answer.insert(0, 0)\n",
    "    \n",
    "    return answer\n",
    "\n",
    "case1 = [6,9,5,7,4]\n",
    "case2 = [3,9,9,3,5,7,2]\n",
    "case3 = [1,5,3,6,7,6,5]\n",
    "\n",
    "test = [case1, case2, case3]\n",
    "for x in test:\n",
    "    print(solution(x))"
   ]
  },
  {
   "cell_type": "code",
   "execution_count": 15,
   "metadata": {},
   "outputs": [
    {
     "name": "stdout",
     "output_type": "stream",
     "text": [
      "4 7 1\n",
      "7 9 3\n",
      "5 9 3\n",
      "[0, 0, 2, 2, 4]\n",
      "2 7 1\n",
      "7 9 4\n",
      "5 9 4\n",
      "3 9 4\n",
      "3 9 4\n",
      "[3, 0, 0, 3, 3, 3, 6]\n",
      "5 6 1\n",
      "6 7 2\n",
      "6 7 2\n",
      "3 5 0\n",
      "5 6 1\n",
      "[0, 6, 7, 5, 0, 5, 6]\n"
     ]
    }
   ],
   "source": [
    "def solution(heights):\n",
    "    answer = []\n",
    "    \n",
    "    heights.reverse()\n",
    "    \n",
    "    \n",
    "    for x in heights:\n",
    "        didInsert = False\n",
    "        for y in heights[heights.index(x) + 1:]:\n",
    "            if x < y:\n",
    "                answer.append(len(heights) - heights.index(y))\n",
    "                print(x, y, heights.index(y))\n",
    "                didInsert = True\n",
    "                break\n",
    "        if not didInsert:\n",
    "            answer.append(0)\n",
    "    \n",
    "    answer.reverse()\n",
    "    \n",
    "    return answer\n",
    "\n",
    "case1 = [6,9,5,7,4]\n",
    "case2 = [3,9,9,3,5,7,2]\n",
    "case3 = [1,5,3,6,7,6,5]\n",
    "\n",
    "test = [case1, case2, case3]\n",
    "for x in test:\n",
    "    print(solution(x))"
   ]
  },
  {
   "cell_type": "code",
   "execution_count": 17,
   "metadata": {},
   "outputs": [
    {
     "name": "stdout",
     "output_type": "stream",
     "text": [
      "[0, 0, 2, 2, 4]\n",
      "[0, 0, 0, 3, 3, 3, 6]\n",
      "[0, 0, 2, 0, 0, 5, 6]\n"
     ]
    }
   ],
   "source": [
    "def solution(heights):\n",
    "    answer = []\n",
    "    \n",
    "    heights.reverse()\n",
    "    \n",
    "    size = len(heights)\n",
    "\n",
    "    for x in range(size):\n",
    "        didInsert = False\n",
    "        for y in range(x+1, size):\n",
    "            if heights[x] < heights[y]:\n",
    "                answer.append(size - y)\n",
    "                didInsert = True\n",
    "                break\n",
    "        if not didInsert:\n",
    "            answer.append(0)\n",
    "    \n",
    "    answer.reverse()\n",
    "    \n",
    "    return answer\n",
    "\n",
    "case1 = [6,9,5,7,4]\n",
    "case2 = [3,9,9,3,5,7,2]\n",
    "case3 = [1,5,3,6,7,6,5]\n",
    "\n",
    "test = [case1, case2, case3]\n",
    "for x in test:\n",
    "    print(solution(x))"
   ]
  },
  {
   "cell_type": "code",
   "execution_count": 12,
   "metadata": {},
   "outputs": [],
   "source": [
    "size = len(heights)\n",
    "\n",
    "for x in range(size):\n",
    "    didInsert = False\n",
    "    for y in range(x+1, size - x + 1):\n",
    "        if heights[x] < heights[y]:\n",
    "            answer.append(size - y)\n",
    "            didInsert = True\n",
    "            break\n",
    "    if not didInsert:\n",
    "        answer.append(0)"
   ]
  }
 ],
 "metadata": {
  "kernelspec": {
   "display_name": "Python 3",
   "language": "python",
   "name": "python3"
  },
  "language_info": {
   "codemirror_mode": {
    "name": "ipython",
    "version": 3
   },
   "file_extension": ".py",
   "mimetype": "text/x-python",
   "name": "python",
   "nbconvert_exporter": "python",
   "pygments_lexer": "ipython3",
   "version": "3.7.6"
  }
 },
 "nbformat": 4,
 "nbformat_minor": 4
}
