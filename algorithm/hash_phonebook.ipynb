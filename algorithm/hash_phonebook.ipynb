{
 "cells": [
  {
   "cell_type": "code",
   "execution_count": 8,
   "metadata": {},
   "outputs": [
    {
     "name": "stdout",
     "output_type": "stream",
     "text": [
      "False\n",
      "True\n",
      "False\n"
     ]
    }
   ],
   "source": [
    "def solution(phone_book):\n",
    "    answer = True\n",
    "    for x in phone_book:\n",
    "        index = phone_book.index(x)\n",
    "        for y in phone_book[index + 1:]:\n",
    "            if x in y:\n",
    "                if x == y[:len(x)]:\n",
    "                    answer = False\n",
    "                    return answer\n",
    "            \n",
    "    \n",
    "    return answer\n",
    "\n",
    "case1 = [\"119\", \"97674223\", \"1195524421\"]\n",
    "case2 = [\"123\", '456', '789']\n",
    "case3 = ['12', '123', '1235', '567', '88']\n",
    "\n",
    "print(solution(case1))\n",
    "print(solution(case2))\n",
    "print(solution(case3))"
   ]
  },
  {
   "cell_type": "markdown",
   "metadata": {},
   "source": [
    "뒤에 접두사가 나오면 앞이랑 비교를 안해, 앞에부터 다 찾자"
   ]
  },
  {
   "cell_type": "code",
   "execution_count": 10,
   "metadata": {},
   "outputs": [
    {
     "name": "stdout",
     "output_type": "stream",
     "text": [
      "False\n",
      "True\n",
      "False\n"
     ]
    }
   ],
   "source": [
    "def solution(phone_book):\n",
    "    answer = True\n",
    "    for x in phone_book:\n",
    "\n",
    "        for y in phone_book:\n",
    "            if x == y:\n",
    "                continue\n",
    "            if x in y:\n",
    "                if x == y[:len(x)]:\n",
    "                    answer = False\n",
    "                    return answer\n",
    "            \n",
    "    \n",
    "    return answer\n",
    "\n",
    "case1 = [\"119\", \"97674223\", \"1195524421\"]\n",
    "case2 = [\"123\", '456', '789']\n",
    "case3 = ['12', '123', '1235', '567', '88']\n",
    "\n",
    "print(solution(case1))\n",
    "print(solution(case2))\n",
    "print(solution(case3))"
   ]
  },
  {
   "cell_type": "code",
   "execution_count": 4,
   "metadata": {},
   "outputs": [
    {
     "name": "stdout",
     "output_type": "stream",
     "text": [
      "True\n"
     ]
    }
   ],
   "source": [
    "print('119' in '321119552336723')"
   ]
  }
 ],
 "metadata": {
  "kernelspec": {
   "display_name": "Python 3",
   "language": "python",
   "name": "python3"
  },
  "language_info": {
   "codemirror_mode": {
    "name": "ipython",
    "version": 3
   },
   "file_extension": ".py",
   "mimetype": "text/x-python",
   "name": "python",
   "nbconvert_exporter": "python",
   "pygments_lexer": "ipython3",
   "version": "3.7.6"
  }
 },
 "nbformat": 4,
 "nbformat_minor": 4
}
