{
 "cells": [
  {
   "cell_type": "code",
   "execution_count": 6,
   "metadata": {},
   "outputs": [
    {
     "name": "stdout",
     "output_type": "stream",
     "text": [
      "{'leo': 0, 'kiki': 1, 'eden': 1}\n"
     ]
    }
   ],
   "source": [
    "def solution(participant, completion):\n",
    "    runners = {x:0 for x in participant}\n",
    "    for runner in completion:\n",
    "        runners[runner] = 1\n",
    "    \n",
    "    answer = runners\n",
    "    \n",
    "    return answer\n",
    "\n",
    "participant = ['leo', 'kiki', 'eden']\n",
    "completion = ['eden','kiki']\n",
    "\n",
    "print(solution(participant, completion))"
   ]
  },
  {
   "cell_type": "code",
   "execution_count": 8,
   "metadata": {},
   "outputs": [
    {
     "name": "stdout",
     "output_type": "stream",
     "text": [
      "leo\n"
     ]
    }
   ],
   "source": [
    "def solution(participant, completion):\n",
    "    runners = participant.copy()\n",
    "    for runner in completion:\n",
    "        if runner in participant:\n",
    "            runners.remove(runner)\n",
    "    return runners[0]\n",
    "\n",
    "participant = ['leo', 'kiki', 'eden']\n",
    "completion = ['eden','kiki']\n",
    "\n",
    "print(solution(participant, completion))"
   ]
  },
  {
   "cell_type": "markdown",
   "metadata": {},
   "source": [
    "위 방법은 해결가능하지만 전체탐색이기 때문에 효율성이 좋지 않다.\n",
    "**해시 테이블**을 사용해야 한다."
   ]
  },
  {
   "cell_type": "code",
   "execution_count": 16,
   "metadata": {},
   "outputs": [
    {
     "name": "stdout",
     "output_type": "stream",
     "text": [
      "leo\n"
     ]
    }
   ],
   "source": [
    "def hash_func(data, size):\n",
    "    return hash(data) % size\n",
    "\n",
    "def save_data(hash_table, hash_address, data):\n",
    "    hash_table[hash_address] = data\n",
    "    \n",
    "def get_data(hash_table, key, size):\n",
    "    return hash_table[hash_func(key, size)]\n",
    "\n",
    "def solution(participant, completion):\n",
    "    hash_size = 200000\n",
    "    runners = [0 for i in range(hash_size)]\n",
    "    answer = ''\n",
    "    for runner in completion:\n",
    "        addr = hash_func(runner, hash_size)\n",
    "        save_data(runners, addr, 1)\n",
    "    \n",
    "    for runner in participant:\n",
    "        if not get_data(runners, runner, hash_size):\n",
    "            answer = runner\n",
    "    \n",
    "    return answer\n",
    "\n",
    "participant = ['leo', 'kiki', 'eden']\n",
    "completion = ['eden','kiki']\n",
    "\n",
    "print(solution(participant, completion))"
   ]
  },
  {
   "cell_type": "markdown",
   "metadata": {},
   "source": [
    "위 방법은 동명이인을 처리하지 못함.\n",
    "동명이인 처리를 위해 간단한 dictionary로 해결하고자 함"
   ]
  },
  {
   "cell_type": "code",
   "execution_count": 18,
   "metadata": {},
   "outputs": [
    {
     "name": "stdout",
     "output_type": "stream",
     "text": [
      "leo\n"
     ]
    }
   ],
   "source": [
    "def solution(participant, completion):\n",
    "    runners = {x:0 for x in participant}\n",
    "    for runner in completion:\n",
    "        runners[runner] = 1\n",
    "    \n",
    "    for runner, state in runners.items():\n",
    "        if state == 0:\n",
    "            answer = runner\n",
    "    \n",
    "    return answer\n",
    "\n",
    "participant = ['leo', 'kiki', 'eden']\n",
    "completion = ['eden','kiki']\n",
    "\n",
    "print(solution(participant, completion))"
   ]
  },
  {
   "cell_type": "markdown",
   "metadata": {},
   "source": [
    "dic에서도 동명이인 처리 불가. list로 처리해야함"
   ]
  },
  {
   "cell_type": "code",
   "execution_count": 21,
   "metadata": {},
   "outputs": [
    {
     "name": "stdout",
     "output_type": "stream",
     "text": [
      "leo\n"
     ]
    }
   ],
   "source": [
    "def solution(participant, completion):\n",
    "    runners = participant.copy()\n",
    "    for runner in completion:\n",
    "        runners.remove(runner)\n",
    "    \n",
    "    \n",
    "    \n",
    "    return runners[0]\n",
    "\n",
    "participant = ['leo', 'kiki', 'eden']\n",
    "completion = ['eden','kiki']\n",
    "\n",
    "print(solution(participant, completion))"
   ]
  },
  {
   "cell_type": "markdown",
   "metadata": {},
   "source": [
    "for 반복문을 쓰면 데이터가 커지면서 소요시간도 커진다. \n",
    "해시를 사용해야해.\n",
    "for 안에 있는 remove가 list를 한번 더 반복 하는건가?"
   ]
  },
  {
   "cell_type": "code",
   "execution_count": 23,
   "metadata": {},
   "outputs": [
    {
     "name": "stdout",
     "output_type": "stream",
     "text": [
      "leo\n"
     ]
    }
   ],
   "source": [
    "def solution(participant, completion):\n",
    "    runners = {x:participant.count(x) for x in participant}\n",
    "    for runner in completion:\n",
    "        runners[runner] += 1\n",
    "    \n",
    "    for runner, state in runners.items():\n",
    "        if state == 1:\n",
    "            answer = runner\n",
    "    \n",
    "    return answer\n",
    "\n",
    "participant = ['leo', 'kiki', 'eden']\n",
    "completion = ['eden','kiki']\n",
    "\n",
    "print(solution(participant, completion))"
   ]
  },
  {
   "cell_type": "markdown",
   "metadata": {},
   "source": [
    "결국 dictionary 이용이었다. dictionary == hash 이기 때문에"
   ]
  },
  {
   "cell_type": "code",
   "execution_count": null,
   "metadata": {},
   "outputs": [],
   "source": [
    "def solution(participant, completion):\n",
    "    runners = {}\n",
    "    for x in participant:\n",
    "        runners[x] = runners.get(x, 0) + 1\n",
    "    for x in completion:\n",
    "        runners[x] -= 1\n",
    "    \n",
    "    didNotFinished = [k for k, v in runners.items() if v > 0]\n",
    "    answer = didNotFinished[0]\n",
    "    \n",
    "    return answer"
   ]
  },
  {
   "cell_type": "code",
   "execution_count": 26,
   "metadata": {},
   "outputs": [
    {
     "name": "stdout",
     "output_type": "stream",
     "text": [
      "leo\n",
      "Counter({'leo': 1, 'kiki': 1, 'eden': 1})\n",
      "<class 'collections.Counter'>\n"
     ]
    }
   ],
   "source": [
    "import collections\n",
    "\n",
    "def solution(participant, completion):\n",
    "    answer = collections.Counter(participant) - collections.Counter(completion)\n",
    "    return list(answer.keys())[0]\n",
    "\n",
    "participant = ['leo', 'kiki', 'eden']\n",
    "completion = ['eden','kiki']\n",
    "\n",
    "print(solution(participant, completion))\n",
    "print(collections.Counter(participant))\n",
    "print(type(collections.Counter(participant)))"
   ]
  }
 ],
 "metadata": {
  "kernelspec": {
   "display_name": "Python 3",
   "language": "python",
   "name": "python3"
  },
  "language_info": {
   "codemirror_mode": {
    "name": "ipython",
    "version": 3
   },
   "file_extension": ".py",
   "mimetype": "text/x-python",
   "name": "python",
   "nbconvert_exporter": "python",
   "pygments_lexer": "ipython3",
   "version": "3.7.6"
  }
 },
 "nbformat": 4,
 "nbformat_minor": 4
}
