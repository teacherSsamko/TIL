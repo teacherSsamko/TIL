{
 "cells": [
  {
   "cell_type": "markdown",
   "metadata": {},
   "source": [
    "1. 문제\n",
    "\n",
    "\n",
    " 카약 대회 진행중에 불행하게도 강한 바람으로 몇몇 카약이 손상되었다. 레이스 시작은 5분 밖에 남지 않았다. 불행 중 다행으로, 몇몇 팀들이 여분의 카약을 가져왔다. 카약은 무겁고 운반하기 힘들어서, 여분의 카약을 가져 온 팀들은 자신들의 경기 직전 혹은 경기  직후의 팀에게만 카약을 빌려줄 수 있다. 예를 들어, 레이스에 4번째로 참가하는 팀은 3번이나 5번 팀에게만 빌려줄 수 있다. 당연히 여분의 카약을 가져온 팀의 카약이 파손되었을 경우, 해당 팀은 당연히 자신들이 가져온 여분의 카약을 다른 팀에게 빌려주지 않고 자신들이 탄다. \n",
    " 당신은 경기의 진행자로서 카약을 빌리지 못해 경기에 참가하지 못하는 팀들의 최소 숫자를 알아내야 한다.\n",
    "\n",
    "\n",
    "\n",
    "2. 입력\n",
    "첫 번째 줄에는 3개의 정수가 입력된다. 전체 팀의 수 N(2 <= N <= 10), 카약이 손상된 팀의 수 S(2 <= S <= N), 여분의 카약을 가져온 팀의 수 R(2 <= R <= N).\n",
    "두 번째 줄에는 S의 정확한 팀 번호가 입력된다. (손상된 카약은 한 팀에 최대 한 개)\n",
    "\n",
    "세 번째 줄에는 R의 정확한 팀 번호가 입력된다. (여분의 카약은 한 팀에 최대 한 개)\n",
    "\n",
    "\n",
    "\n",
    "3. 출력\n",
    "카약이 파손되고, 빌리지 못해 경기에 참여할 수 없는 팀의 최소 숫자.\n",
    "\n",
    "\n",
    "\n",
    "4. 예시\n",
    "입력:\n",
    "\n",
    "5 2 3\n",
    "\n",
    "2 4\n",
    "\n",
    "1 3 5\n",
    "\n",
    "출력:\n",
    "\n",
    "0\n",
    "\n",
    "입력:\n",
    "\n",
    "5 2 1\n",
    "\n",
    "2 4\n",
    "\n",
    "3\n",
    "\n",
    "출력:\n",
    "\n",
    "1\n",
    "\n"
   ]
  },
  {
   "cell_type": "code",
   "execution_count": 1,
   "metadata": {},
   "outputs": [
    {
     "name": "stdout",
     "output_type": "stream",
     "text": [
      "5 2 3\n",
      "2 4\n",
      "1 3 5\n",
      "0\n"
     ]
    }
   ],
   "source": [
    "# first attmpt\n",
    "\n",
    "N, S, R = map(int, input().rstrip().split())\n",
    "Ss = list(map(int, input().rstrip().split()))\n",
    "Rs = list(map(int, input().rstrip().split()))\n",
    "\n",
    "\n",
    "def min_cant_start(n, lost, reserve):\n",
    "\n",
    "    _lost = [s for s in lost if s not in reserve]\n",
    "    _reserve = [s for s in reserve if s not in lost]\n",
    "\n",
    "    cant_s = len(_lost)\n",
    "\n",
    "    for lost_s in _lost:\n",
    "        for res_s in _reserve:\n",
    "            if abs(lost_s - res_s) == 1:\n",
    "                _reserve.remove(res_s)\n",
    "                cant_s -= 1\n",
    "                break\n",
    "\n",
    "    return cant_s\n",
    "\n",
    "\n",
    "print(min_cant_start(N, Ss, Rs))\n"
   ]
  },
  {
   "cell_type": "code",
   "execution_count": null,
   "metadata": {},
   "outputs": [],
   "source": [
    "# more greedier\n",
    "N, S, R = map(int, input().rstrip().split())\n",
    "Ss = list(map(int, input().rstrip().split()))\n",
    "Rs = list(map(int, input().rstrip().split()))\n",
    "\n",
    "\n",
    "def min_cant_start(n, lost, reserve):\n",
    "\n",
    "    _lost = [s for s in lost if s not in reserve]\n",
    "    _reserve = [s for s in reserve if s not in lost]\n",
    "\n",
    "    cant_s = len(_lost)\n",
    "\n",
    "    for lost_s in _lost:\n",
    "        for res_s in _reserve:\n",
    "            if abs(lost_s - res_s) == 1:\n",
    "                _reserve.remove(res_s)\n",
    "                cant_s -= 1\n",
    "                break\n",
    "\n",
    "    return cant_s\n",
    "\n",
    "\n",
    "print(min_cant_start(N, Ss, Rs))\n"
   ]
  }
 ],
 "metadata": {
  "kernelspec": {
   "display_name": "Python 3",
   "language": "python",
   "name": "python3"
  },
  "language_info": {
   "codemirror_mode": {
    "name": "ipython",
    "version": 3
   },
   "file_extension": ".py",
   "mimetype": "text/x-python",
   "name": "python",
   "nbconvert_exporter": "python",
   "pygments_lexer": "ipython3",
   "version": "3.7.6"
  }
 },
 "nbformat": 4,
 "nbformat_minor": 4
}
