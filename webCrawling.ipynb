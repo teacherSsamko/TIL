{
 "cells": [
  {
   "cell_type": "code",
   "execution_count": 3,
   "metadata": {},
   "outputs": [
    {
     "name": "stdout",
     "output_type": "stream",
     "text": [
      "[<header>\n",
      "<title>http://info.cern.ch</title>\n",
      "</header>, '\\n', <h1>http://info.cern.ch - home of the first website</h1>, '\\n', <p>From here you can:</p>, '\\n', <ul>\n",
      "<li><a href=\"http://info.cern.ch/hypertext/WWW/TheProject.html\">Browse the first website</a></li>\n",
      "<li><a href=\"http://line-mode.cern.ch/www/hypertext/WWW/TheProject.html\">Browse the first website using the line-mode browser simulator</a></li>\n",
      "<li><a href=\"http://home.web.cern.ch/topics/birth-web\">Learn about the birth of the web</a></li>\n",
      "<li><a href=\"http://home.web.cern.ch/about\">Learn about CERN, the physics laboratory where the web was born</a></li>\n",
      "</ul>, '\\n']\n",
      "Browse the first website\n",
      "Browse the first website\n"
     ]
    }
   ],
   "source": [
    "from bs4 import BeautifulSoup as bs\n",
    "import requests\n",
    "\n",
    "page = requests.get(\"http://info.cern.ch/\")\n",
    "\n",
    "soup = bs(page.content, 'html.parser')\n",
    "\n",
    "# print(soup.prettify())\n",
    "# print(list(soup.children))\n",
    "html = list(soup.children)[0]\n",
    "# print(list(html.children))\n",
    "body = list(html.children)[1]\n",
    "print(list(body.children))\n",
    "\n",
    "\n",
    "print(soup.find_all('a')[0].get_text())\n",
    "print(soup.find_all('li')[0].get_text())\n"
   ]
  },
  {
   "cell_type": "code",
   "execution_count": 4,
   "metadata": {},
   "outputs": [
    {
     "name": "stdout",
     "output_type": "stream",
     "text": [
      "['\\n', <header>\n",
      "<nav class=\"navbar navbar-expand-md navbar-dark fixed-top\" style=\"background-color: #36802d\">\n",
      "<a class=\"navbar-brand\" href=\"/\">컴룸닷넷</a>\n",
      "<button aria-controls=\"navbarSupportedContent\" aria-expanded=\"false\" aria-label=\"Toggle navigation\" class=\"navbar-toggler\" data-target=\"#navbarSupportedContent\" data-toggle=\"collapse\" type=\"button\">\n",
      "<span class=\"navbar-toggler-icon\"></span>\n",
      "</button>\n",
      "<div class=\"collapse navbar-collapse\" id=\"navbarSupportedContent\">\n",
      "<ul class=\"navbar-nav mr-auto\">\n",
      "<li class=\"nav-item\">\n",
      "<a class=\"nav-link\" href=\"/\">HOME</a>\n",
      "</li>\n",
      "<li class=\"nav-item\">\n",
      "<a class=\"nav-link\" href=\"/ssam_ko/\">Made by </a>\n",
      "</li>\n",
      "<li class=\"nav-item\">\n",
      "<a class=\"nav-link\" href=\"/whatis\">What is?</a>\n",
      "</li>\n",
      "<li class=\"nav-item\">\n",
      "<a class=\"nav-link\" href=\"/howto\">How to</a>\n",
      "</li>\n",
      "<li class=\"nav-item active\">\n",
      "<a class=\"nav-link\" href=\"/FAQ\">FAQ</a>\n",
      "</li>\n",
      "</ul>\n",
      "</div>\n",
      "</nav>\n",
      "</header>, '\\n', <main class=\"flex-shrink-0\" role=\"main\">\n",
      "<div class=\"container\">\n",
      "<div class=\"row mt-5\">\n",
      "<div class=\"col-12 text-center\"><h4>FAQ</h4></div>\n",
      "</div>\n",
      "<div class=\"row row-cols-1 row-cols-md-2 mt-5\">\n",
      "<div class=\"col mb-4\">\n",
      "<div class=\"card h-100\">\n",
      "<div class=\"card-header\">\n",
      "                무료인가요?\n",
      "            </div>\n",
      "<div class=\"card-body\">\n",
      "<h5 class=\"card-title\">네, 완전 무료입니다.</h5>\n",
      "<p class=\"card-text\">앞으로도 쭉 무료로 제공될 예정이며, 서버(GCE)운영비용은 후원을 통해 충당할 예정입니다.</p>\n",
      "</div>\n",
      "</div>\n",
      "</div>\n",
      "<div class=\"col mb-4\">\n",
      "<div class=\"card h-100\">\n",
      "<div class=\"card-header\">\n",
      "                학교 선생님들이 다 가입해야 하나요?\n",
      "            </div>\n",
      "<div class=\"card-body\">\n",
      "<h5 class=\"card-title\">학교당 한 분만 가입하시면 됩니다.</h5>\n",
      "<p class=\"card-text\">학교 관리자로 한 분이 가입하시고, 링크만 공유하면 별다른 로그인 절차없이 바로 이용가능합니다.</p>\n",
      "<a class=\"btn btn-primary\" href=\"/howto\">사이트 이용방법</a>\n",
      "</div>\n",
      "</div>\n",
      "</div>\n",
      "<div class=\"col mb-4\">\n",
      "<div class=\"card h-100\">\n",
      "<div class=\"card-header\">\n",
      "                굳이 이메일 인증을 하는 이유가 뭔가요?\n",
      "            </div>\n",
      "<div class=\"card-body\">\n",
      "<h5 class=\"card-title\">무료로 서비스를 제공하기 위함입니다.</h5>\n",
      "<p class=\"card-text\">현재 컴룸닷넷 사이트는 구글 클라우드 컴퓨팅을 이용해 서버를 운영하고 있고, 이용량에 따라서 매달 요금이 부과됩니다. <br/>따라서 무분별한 가입을 제한하고, 악성 트래픽 공격에 대비하기 위해 메일 인증이라는 절차를 만들었습니다. <br/>번거롭더라도 양질의 컨텐츠 이용을 위해 양해바랍니다.</p>\n",
      "</div>\n",
      "</div>\n",
      "</div>\n",
      "<div class=\"col mb-4\">\n",
      "<div class=\"card h-100\">\n",
      "<div class=\"card-header\">\n",
      "                다른 학교 시간표도 볼 수 있나요?\n",
      "            </div>\n",
      "<div class=\"card-body\">\n",
      "<h5 class=\"card-title\">어렵습니다.</h5>\n",
      "<p class=\"card-text\">학교마다 고유의 학교코드를 발급하고 있어서, 관리자에게 부여 된 주소를 통해서만 해당 학교의 페이지에 접속이 가능합니다.  <br/>다른 학교의 학교코드를 알아내지 않는 한 접속할 수 없습니다.</p>\n",
      "</div>\n",
      "</div>\n",
      "</div>\n",
      "<div class=\"col mb-4\">\n",
      "<div class=\"card h-100\">\n",
      "<div class=\"card-header\">\n",
      "                필요한 기능이 있는데...\n",
      "            </div>\n",
      "<div class=\"card-body\">\n",
      "<h5 class=\"card-title\">만들어 드리겠습니다!</h5>\n",
      "<p class=\"card-text\"><a href=\"mailto:teacher.ssamko@gmail.com\">메일</a>이나 <a href=\"https://open.kakao.com/o/sE9Bcl1b\">카카오톡 오픈톡방</a>으로 문의주시면 검토후 빠른시일내에 만들어드립니다. <br/>선생님들의 의견으로 사이트가 더욱 발전할 수 있습니다.^^</p>\n",
      "</div>\n",
      "</div>\n",
      "</div>\n",
      "</div>\n",
      "</div>\n",
      "</main>, '\\n', <footer class=\"footer mt-auto py-3\">\n",
      "<div class=\"container\">\n",
      "<h5>\n",
      "<a href=\"mailto:teacher.ssamko@gmail.com\">\n",
      "<i>teacher.ssamko@gmail.com</i>\n",
      "</a>\n",
      "</h5>\n",
      "<p>Copyright Ⓒ <em>이은섭</em> 2020. All Rights Reserved.</p>\n",
      "</div>\n",
      "</footer>, '\\n']\n",
      "\n",
      "                무료인가요?\n",
      "            \n"
     ]
    }
   ],
   "source": [
    "from bs4 import BeautifulSoup as bs\n",
    "import requests\n",
    "\n",
    "\n",
    "page = requests.get(\"http://comroom.net/FAQ\")\n",
    "soup = bs(page.content, 'html.parser')\n",
    "\n",
    "# print(soup.prettify())\n",
    "# print(list(soup.children))\n",
    "html = list(soup.children)[2]\n",
    "# print(list(html.children))\n",
    "head = list(html.children)[1]\n",
    "body = list(html.children)[3]\n",
    "print(list(body.children))\n",
    "\n",
    "\n",
    "print(soup.find_all('div', class_='card-header')[0].get_text())\n",
    "\n"
   ]
  },
  {
   "cell_type": "code",
   "execution_count": 13,
   "metadata": {},
   "outputs": [
    {
     "data": {
      "text/plain": [
       "[<h5 class=\"card-title\">네, 완전 무료입니다.</h5>,\n",
       " <h5 class=\"card-title\">학교당 한 분만 가입하시면 됩니다.</h5>,\n",
       " <h5 class=\"card-title\">무료로 서비스를 제공하기 위함입니다.</h5>,\n",
       " <h5 class=\"card-title\">어렵습니다.</h5>,\n",
       " <h5 class=\"card-title\">만들어 드리겠습니다!</h5>]"
      ]
     },
     "execution_count": 13,
     "metadata": {},
     "output_type": "execute_result"
    }
   ],
   "source": [
    "from bs4 import BeautifulSoup as bs\n",
    "import requests\n",
    "\n",
    "\n",
    "page = requests.get(\"http://comroom.net/FAQ\")\n",
    "soup = bs(page.content, 'html.parser')\n",
    "\n",
    "# print(soup.prettify())\n",
    "# print(list(soup.children))\n",
    "html = list(soup.children)[2]\n",
    "# print(list(html.children))\n",
    "head = list(html.children)[1]\n",
    "body = list(html.children)[3]\n",
    "\n",
    "soup.select(\"div li\")\n",
    "soup.select(\"div h5\")\n",
    "soup.select(\"div.card-body h5\")\n"
   ]
  },
  {
   "cell_type": "code",
   "execution_count": 14,
   "metadata": {},
   "outputs": [
    {
     "data": {
      "text/plain": [
       "[<p class=\"confirmed number\">0</p>,\n",
       " <p class=\"death red number\">0</p>,\n",
       " <p class=\"released number\">0</p>,\n",
       " <p class=\"fatality number\">0</p>,\n",
       " <p class=\"candidate number\">0</p>,\n",
       " <p class=\"testing number\">0</p>,\n",
       " <p class=\"negative number\">0</p>]"
      ]
     },
     "execution_count": 14,
     "metadata": {},
     "output_type": "execute_result"
    }
   ],
   "source": [
    "from bs4 import BeautifulSoup as bs\n",
    "import requests\n",
    "\n",
    "\n",
    "page = requests.get(\"https://coronaboard.kr/\")\n",
    "soup = bs(page.content, 'html.parser')\n",
    "\n",
    "soup.select(\"div.domestic .number\")"
   ]
  },
  {
   "cell_type": "code",
   "execution_count": 24,
   "metadata": {},
   "outputs": [],
   "source": [
    "from bs4 import BeautifulSoup as bs\n",
    "import requests\n",
    "from datetime import datetime\n",
    "\n",
    "\n",
    "page = requests.get(\"http://ncov.mohw.go.kr/\")\n",
    "soup = bs(page.content, 'html.parser')\n",
    "\n",
    "\n",
    "data = soup.select(\"div.liveNum li span.num\")[0].get_text() + '\\n'\n",
    "# data = datetime.now() + data\n",
    "f = open('covid.txt', 'a')\n",
    "f.write(data)\n",
    "f.close()"
   ]
  },
  {
   "cell_type": "code",
   "execution_count": null,
   "metadata": {},
   "outputs": [],
   "source": []
  }
 ],
 "metadata": {
  "kernelspec": {
   "display_name": "Python 3",
   "language": "python",
   "name": "python3"
  },
  "language_info": {
   "codemirror_mode": {
    "name": "ipython",
    "version": 3
   },
   "file_extension": ".py",
   "mimetype": "text/x-python",
   "name": "python",
   "nbconvert_exporter": "python",
   "pygments_lexer": "ipython3",
   "version": "3.7.6"
  }
 },
 "nbformat": 4,
 "nbformat_minor": 4
}
