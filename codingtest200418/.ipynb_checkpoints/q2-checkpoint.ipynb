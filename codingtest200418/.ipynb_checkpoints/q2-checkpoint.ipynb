{
 "cells": [
  {
   "cell_type": "code",
   "execution_count": null,
   "metadata": {},
   "outputs": [],
   "source": [
    "class robot:\n",
    "    def __init__(self, r, c, office):\n",
    "        self.r = r\n",
    "        self.c = c\n",
    "        self.total = 0\n",
    "        self.office = office\n",
    "        self.heading = 'N'\n",
    "        \n",
    "\n",
    "    def go(self):\n",
    "        if self.heading == 'N':\n",
    "            if self.r - 1 >= 0:\n",
    "                self.r -= 1\n",
    "        elif self.heading == 'S':\n",
    "            if self.r + 1 <= len(office):\n",
    "                self.r += 1\n",
    "        elif self.heading == 'E':\n",
    "            if self.c + 1 <= len(office):\n",
    "                self.c += 1\n",
    "        else:\n",
    "            if self.c - 1 >= 0:\n",
    "                self.c -= 1\n",
    "        # clean method needed\n",
    "\n",
    "    def left(self):\n",
    "        if self.heading == 'N':\n",
    "            self.heading = 'W'\n",
    "        elif self.heading == 'S':\n",
    "            self.heading = 'E'\n",
    "        elif self.heading == 'E':\n",
    "            self.heading = 'N'\n",
    "        else:\n",
    "            self.heading = 'S'\n",
    "            \n",
    "    def right(self):\n",
    "        if self.heading == 'N':\n",
    "            self.heading = 'E'\n",
    "        elif self.heading == 'S':\n",
    "            self.heading = 'W'\n",
    "        elif self.heading == 'E':\n",
    "            self.heading = 'S'\n",
    "        else:\n",
    "            self.heading = 'N'\n",
    "        \n",
    "def solution(office, r, c, move):\n",
    "    total = 0\n",
    "    remain = copy.deepcopy(office)\n",
    "    \n",
    "    \n",
    "    return total\n",
    "\n",
    "solution([[5,-1,4],[6,3,-1],[2,-1,1]], 1, 0, ['go','go','right','go','right','go','left','go'])"
   ]
  }
 ],
 "metadata": {
  "kernelspec": {
   "display_name": "Python 3",
   "language": "python",
   "name": "python3"
  },
  "language_info": {
   "codemirror_mode": {
    "name": "ipython",
    "version": 3
   },
   "file_extension": ".py",
   "mimetype": "text/x-python",
   "name": "python",
   "nbconvert_exporter": "python",
   "pygments_lexer": "ipython3",
   "version": "3.7.6"
  }
 },
 "nbformat": 4,
 "nbformat_minor": 4
}
